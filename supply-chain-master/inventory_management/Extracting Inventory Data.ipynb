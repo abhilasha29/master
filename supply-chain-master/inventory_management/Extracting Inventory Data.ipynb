{
 "cells": [
  {
   "cell_type": "markdown",
   "metadata": {},
   "source": [
    "# Walmart Inventory Management\n",
    "\n",
    "Here we will create the mock inventory data from the official Walmart import dataset.\n",
    "\n"
   ]
  },
  {
   "cell_type": "code",
   "execution_count": 37,
   "metadata": {},
   "outputs": [],
   "source": [
    "import zipfile\n",
    "with zipfile.ZipFile(\"walmart-import-data-full.zip\",\"r\") as zip_ref:\n",
    "    zip_ref.extractall(\"./\")"
   ]
  },
  {
   "cell_type": "code",
   "execution_count": 38,
   "metadata": {},
   "outputs": [],
   "source": [
    "import pandas as pd\n",
    "\n",
    "parser = lambda x: pd.to_datetime(x, format='%m/%d/%Y', errors='coerce')\n",
    "df = pd.read_csv('walmart-import-data-full.csv', parse_dates=['ARRIVAL DATE'], date_parser=parser)"
   ]
  },
  {
   "cell_type": "markdown",
   "metadata": {},
   "source": [
    "We will focus on the item with the maximum frequency."
   ]
  },
  {
   "cell_type": "code",
   "execution_count": 39,
   "metadata": {},
   "outputs": [
    {
     "name": "stdout",
     "output_type": "stream",
     "text": [
      "Item with highest number of import frequency : FOOTWEAR(2277)\n"
     ]
    }
   ],
   "source": [
    "frequent_item = df['PRODUCT DETAILS'].value_counts().idxmax()\n",
    "frequent_item_count = df['PRODUCT DETAILS'].value_counts()[0]\n",
    "print 'Item with highest number of import frequency : {}({})'.format(frequent_item, frequent_item_count)"
   ]
  },
  {
   "cell_type": "markdown",
   "metadata": {},
   "source": [
    "Fitlter dataset by selected item."
   ]
  },
  {
   "cell_type": "code",
   "execution_count": 40,
   "metadata": {},
   "outputs": [],
   "source": [
    "filtered_df = df[df['PRODUCT DETAILS'] == frequent_item]"
   ]
  },
  {
   "cell_type": "markdown",
   "metadata": {},
   "source": [
    "Remove unused columns by keeping only the important columns e.g Quantity and Date of Arrival"
   ]
  },
  {
   "cell_type": "code",
   "execution_count": 41,
   "metadata": {},
   "outputs": [
    {
     "name": "stdout",
     "output_type": "stream",
     "text": [
      "Sample of first 10 rows:\n",
      "      ARRIVAL DATE  QUANTITY\n",
      "12403   2012-11-27      16.0\n",
      "14573   2012-12-03     402.0\n",
      "17762   2012-10-30    1305.0\n",
      "20568   2013-06-03     250.0\n",
      "20569   2013-06-03     350.0\n",
      "20573   2013-06-09     749.0\n",
      "20618   2013-07-14     400.0\n",
      "20623   2013-07-14     600.0\n",
      "20682   2013-09-01     600.0\n",
      "24510   2012-12-02       8.0\n"
     ]
    }
   ],
   "source": [
    "columns = ['ARRIVAL DATE','QUANTITY']\n",
    "new_df = filtered_df[columns]\n",
    "print \"Sample of first 10 rows:\"\n",
    "print new_df.head(10)"
   ]
  },
  {
   "cell_type": "markdown",
   "metadata": {},
   "source": [
    "Sum quantity by date"
   ]
  },
  {
   "cell_type": "code",
   "execution_count": 42,
   "metadata": {},
   "outputs": [
    {
     "name": "stdout",
     "output_type": "stream",
     "text": [
      "Sample of aggregated data:\n",
      "  ARRIVAL DATE QUANTITY\n",
      "0   2012-11-27       18\n",
      "1   2012-12-03      576\n",
      "2   2012-10-30     4314\n",
      "3   2013-06-03     1806\n",
      "4   2013-06-09      749\n",
      "5   2013-07-14     6572\n",
      "6   2013-09-01     1285\n",
      "7   2012-12-02       12\n",
      "8   2012-11-06      968\n",
      "9   2013-09-08     1580\n"
     ]
    }
   ],
   "source": [
    "aggregated_df = pd.DataFrame(columns = columns)\n",
    "i = 0\n",
    "for unique_date in new_df['ARRIVAL DATE'].unique():\n",
    "    total_quantity = int(new_df.loc[new_df['ARRIVAL DATE'] == unique_date]['QUANTITY'].sum())\n",
    "    aggregated_df.loc[i] = [unique_date, total_quantity]\n",
    "    i += 1\n",
    "print \"Sample of aggregated data:\"\n",
    "print aggregated_df.head(10)"
   ]
  },
  {
   "cell_type": "markdown",
   "metadata": {},
   "source": [
    "Save data into csv"
   ]
  },
  {
   "cell_type": "code",
   "execution_count": 43,
   "metadata": {},
   "outputs": [],
   "source": [
    "aggregated_df.to_csv('{}_inventory_dataset.csv'.format(frequent_item.lower()))"
   ]
  }
 ],
 "metadata": {
  "kernelspec": {
   "display_name": "Python 2",
   "language": "python",
   "name": "python2"
  },
  "language_info": {
   "codemirror_mode": {
    "name": "ipython",
    "version": 2.0
   },
   "file_extension": ".py",
   "mimetype": "text/x-python",
   "name": "python",
   "nbconvert_exporter": "python",
   "pygments_lexer": "ipython2",
   "version": "2.7.10"
  }
 },
 "nbformat": 4,
 "nbformat_minor": 0
}